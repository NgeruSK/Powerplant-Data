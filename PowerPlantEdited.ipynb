{
 "cells": [
  {
   "cell_type": "code",
   "execution_count": 1,
   "id": "bc64abec",
   "metadata": {},
   "outputs": [],
   "source": [
    "import pandas as np\n",
    "\n",
    "df_electrical = np.read_csv('powerplant_data_edited.csv')"
   ]
  },
  {
   "cell_type": "code",
   "execution_count": 3,
   "id": "fa14a004",
   "metadata": {},
   "outputs": [
    {
     "name": "stdout",
     "output_type": "stream",
     "text": [
      "<class 'pandas.core.frame.DataFrame'>\n",
      "RangeIndex: 9568 entries, 0 to 9567\n",
      "Data columns (total 5 columns):\n",
      " #   Column                               Non-Null Count  Dtype  \n",
      "---  ------                               --------------  -----  \n",
      " 0   Temperature                          9568 non-null   float64\n",
      " 1   Exhaust_Vacuum                       9568 non-null   float64\n",
      " 2   Ambient_Pressure                     9568 non-null   float64\n",
      " 3   Relative_Humidity                    9568 non-null   float64\n",
      " 4   net_hourly_electrical_energy_output  9568 non-null   float64\n",
      "dtypes: float64(5)\n",
      "memory usage: 373.9 KB\n"
     ]
    },
    {
     "data": {
      "text/html": [
       "<div>\n",
       "<style scoped>\n",
       "    .dataframe tbody tr th:only-of-type {\n",
       "        vertical-align: middle;\n",
       "    }\n",
       "\n",
       "    .dataframe tbody tr th {\n",
       "        vertical-align: top;\n",
       "    }\n",
       "\n",
       "    .dataframe thead th {\n",
       "        text-align: right;\n",
       "    }\n",
       "</style>\n",
       "<table border=\"1\" class=\"dataframe\">\n",
       "  <thead>\n",
       "    <tr style=\"text-align: right;\">\n",
       "      <th></th>\n",
       "      <th>Temperature</th>\n",
       "      <th>Exhaust_Vacuum</th>\n",
       "      <th>Ambient_Pressure</th>\n",
       "      <th>net_hourly_electrical_energy_output</th>\n",
       "    </tr>\n",
       "    <tr>\n",
       "      <th>Relative_Humidity</th>\n",
       "      <th></th>\n",
       "      <th></th>\n",
       "      <th></th>\n",
       "      <th></th>\n",
       "    </tr>\n",
       "  </thead>\n",
       "  <tbody>\n",
       "    <tr>\n",
       "      <th>25.56</th>\n",
       "      <td>34.240000</td>\n",
       "      <td>74.670000</td>\n",
       "      <td>1016.240000</td>\n",
       "      <td>425.580000</td>\n",
       "    </tr>\n",
       "    <tr>\n",
       "      <th>25.89</th>\n",
       "      <td>34.300000</td>\n",
       "      <td>74.670000</td>\n",
       "      <td>1015.980000</td>\n",
       "      <td>427.840000</td>\n",
       "    </tr>\n",
       "    <tr>\n",
       "      <th>26.30</th>\n",
       "      <td>35.010000</td>\n",
       "      <td>74.670000</td>\n",
       "      <td>1016.100000</td>\n",
       "      <td>428.480000</td>\n",
       "    </tr>\n",
       "    <tr>\n",
       "      <th>26.67</th>\n",
       "      <td>34.650000</td>\n",
       "      <td>74.670000</td>\n",
       "      <td>1016.030000</td>\n",
       "      <td>427.690000</td>\n",
       "    </tr>\n",
       "    <tr>\n",
       "      <th>28.16</th>\n",
       "      <td>33.940000</td>\n",
       "      <td>74.670000</td>\n",
       "      <td>1015.940000</td>\n",
       "      <td>427.980000</td>\n",
       "    </tr>\n",
       "    <tr>\n",
       "      <th>...</th>\n",
       "      <td>...</td>\n",
       "      <td>...</td>\n",
       "      <td>...</td>\n",
       "      <td>...</td>\n",
       "    </tr>\n",
       "    <tr>\n",
       "      <th>100.12</th>\n",
       "      <td>15.157500</td>\n",
       "      <td>48.650000</td>\n",
       "      <td>1013.660000</td>\n",
       "      <td>463.127500</td>\n",
       "    </tr>\n",
       "    <tr>\n",
       "      <th>100.13</th>\n",
       "      <td>12.105714</td>\n",
       "      <td>46.534286</td>\n",
       "      <td>1011.142857</td>\n",
       "      <td>466.271429</td>\n",
       "    </tr>\n",
       "    <tr>\n",
       "      <th>100.14</th>\n",
       "      <td>12.050000</td>\n",
       "      <td>40.550000</td>\n",
       "      <td>1016.630000</td>\n",
       "      <td>472.190000</td>\n",
       "    </tr>\n",
       "    <tr>\n",
       "      <th>100.15</th>\n",
       "      <td>10.683333</td>\n",
       "      <td>34.096667</td>\n",
       "      <td>1008.190000</td>\n",
       "      <td>470.813333</td>\n",
       "    </tr>\n",
       "    <tr>\n",
       "      <th>100.16</th>\n",
       "      <td>10.590000</td>\n",
       "      <td>25.360000</td>\n",
       "      <td>1009.590000</td>\n",
       "      <td>470.960000</td>\n",
       "    </tr>\n",
       "  </tbody>\n",
       "</table>\n",
       "<p>4546 rows × 4 columns</p>\n",
       "</div>"
      ],
      "text/plain": [
       "                   Temperature  Exhaust_Vacuum  Ambient_Pressure  \\\n",
       "Relative_Humidity                                                  \n",
       "25.56                34.240000       74.670000       1016.240000   \n",
       "25.89                34.300000       74.670000       1015.980000   \n",
       "26.30                35.010000       74.670000       1016.100000   \n",
       "26.67                34.650000       74.670000       1016.030000   \n",
       "28.16                33.940000       74.670000       1015.940000   \n",
       "...                        ...             ...               ...   \n",
       "100.12               15.157500       48.650000       1013.660000   \n",
       "100.13               12.105714       46.534286       1011.142857   \n",
       "100.14               12.050000       40.550000       1016.630000   \n",
       "100.15               10.683333       34.096667       1008.190000   \n",
       "100.16               10.590000       25.360000       1009.590000   \n",
       "\n",
       "                   net_hourly_electrical_energy_output  \n",
       "Relative_Humidity                                       \n",
       "25.56                                       425.580000  \n",
       "25.89                                       427.840000  \n",
       "26.30                                       428.480000  \n",
       "26.67                                       427.690000  \n",
       "28.16                                       427.980000  \n",
       "...                                                ...  \n",
       "100.12                                      463.127500  \n",
       "100.13                                      466.271429  \n",
       "100.14                                      472.190000  \n",
       "100.15                                      470.813333  \n",
       "100.16                                      470.960000  \n",
       "\n",
       "[4546 rows x 4 columns]"
      ]
     },
     "execution_count": 3,
     "metadata": {},
     "output_type": "execute_result"
    }
   ],
   "source": [
    "df_electrical.info()\n",
    "\n",
    "df_electrical.head()\n",
    "\n",
    "\n",
    "df_electrical.groupby('Relative_Humidity').mean()\n"
   ]
  },
  {
   "cell_type": "code",
   "execution_count": 6,
   "id": "bf63e630",
   "metadata": {},
   "outputs": [
    {
     "data": {
      "text/plain": [
       "<AxesSubplot:>"
      ]
     },
     "execution_count": 6,
     "metadata": {},
     "output_type": "execute_result"
    },
    {
     "data": {
      "image/png": "[encoded data removed]",
      "text/plain": [
       "<Figure size 432x288 with 1 Axes>"
      ]
     },
     "metadata": {
      "needs_background": "light"
     },
     "output_type": "display_data"
    }
   ],
   "source": [
    "df_electrical.plot(kind = 'bar')"
   ]
  },
  {
   "cell_type": "code",
   "execution_count": 6,
   "id": "c166d78c",
   "metadata": {},
   "outputs": [
    {
     "data": {
      "text/plain": [
       "<AxesSubplot:xlabel='Temperature', ylabel='net_hourly_electrical_energy_output'>"
      ]
     },
     "execution_count": 6,
     "metadata": {},
     "output_type": "execute_result"
    },
    {
     "data": {
      "image/png": "[encoded data removed]",
      "text/plain": [
       "<Figure size 432x288 with 1 Axes>"
      ]
     },
     "metadata": {
      "needs_background": "light"
     },
     "output_type": "display_data"
    }
   ],
   "source": [
    "df_electrical.plot(kind = 'scatter', x = 'Temperature', y = 'net_hourly_electrical_energy_output')"
   ]
  },
  {
   "cell_type": "code",
   "execution_count": 19,
   "id": "6690fdca",
   "metadata": {},
   "outputs": [
    {
     "data": {
      "text/plain": [
       "<AxesSubplot:ylabel='Frequency'>"
      ]
     },
     "execution_count": 19,
     "metadata": {},
     "output_type": "execute_result"
    },
    {
     "data": {
      "image/png": "[encoded data removed]",
      "text/plain": [
       "<Figure size 432x288 with 1 Axes>"
      ]
     },
     "metadata": {
      "needs_background": "light"
     },
     "output_type": "display_data"
    }
   ],
   "source": [
    "df_electrical['Relative_Humidity'].plot(kind = 'hist')\n",
    "#df_electrical['Relative_Humidity'].plot(kind = 'box')"
   ]
  },
  {
   "cell_type": "code",
   "execution_count": 25,
   "id": "0d842cc8",
   "metadata": {},
   "outputs": [
    {
     "data": {
      "text/html": [
       "<div>\n",
       "<style scoped>\n",
       "    .dataframe tbody tr th:only-of-type {\n",
       "        vertical-align: middle;\n",
       "    }\n",
       "\n",
       "    .dataframe tbody tr th {\n",
       "        vertical-align: top;\n",
       "    }\n",
       "\n",
       "    .dataframe thead th {\n",
       "        text-align: right;\n",
       "    }\n",
       "</style>\n",
       "<table border=\"1\" class=\"dataframe\">\n",
       "  <thead>\n",
       "    <tr style=\"text-align: right;\">\n",
       "      <th></th>\n",
       "      <th>Temperature</th>\n",
       "      <th>Ambient_Pressure</th>\n",
       "      <th>Relative_Humidity</th>\n",
       "      <th>Exhaust_Vacuum</th>\n",
       "    </tr>\n",
       "  </thead>\n",
       "  <tbody>\n",
       "    <tr>\n",
       "      <th>count</th>\n",
       "      <td>9568.000000</td>\n",
       "      <td>9568.000000</td>\n",
       "      <td>9568.000000</td>\n",
       "      <td>9568.000000</td>\n",
       "    </tr>\n",
       "    <tr>\n",
       "      <th>mean</th>\n",
       "      <td>19.651231</td>\n",
       "      <td>1013.259078</td>\n",
       "      <td>73.308978</td>\n",
       "      <td>54.305804</td>\n",
       "    </tr>\n",
       "    <tr>\n",
       "      <th>std</th>\n",
       "      <td>7.452473</td>\n",
       "      <td>5.938784</td>\n",
       "      <td>14.600269</td>\n",
       "      <td>12.707893</td>\n",
       "    </tr>\n",
       "    <tr>\n",
       "      <th>min</th>\n",
       "      <td>1.810000</td>\n",
       "      <td>992.890000</td>\n",
       "      <td>25.560000</td>\n",
       "      <td>25.360000</td>\n",
       "    </tr>\n",
       "    <tr>\n",
       "      <th>25%</th>\n",
       "      <td>13.510000</td>\n",
       "      <td>1009.100000</td>\n",
       "      <td>63.327500</td>\n",
       "      <td>41.740000</td>\n",
       "    </tr>\n",
       "    <tr>\n",
       "      <th>50%</th>\n",
       "      <td>20.345000</td>\n",
       "      <td>1012.940000</td>\n",
       "      <td>74.975000</td>\n",
       "      <td>52.080000</td>\n",
       "    </tr>\n",
       "    <tr>\n",
       "      <th>75%</th>\n",
       "      <td>25.720000</td>\n",
       "      <td>1017.260000</td>\n",
       "      <td>84.830000</td>\n",
       "      <td>66.540000</td>\n",
       "    </tr>\n",
       "    <tr>\n",
       "      <th>max</th>\n",
       "      <td>37.110000</td>\n",
       "      <td>1033.300000</td>\n",
       "      <td>100.160000</td>\n",
       "      <td>81.560000</td>\n",
       "    </tr>\n",
       "  </tbody>\n",
       "</table>\n",
       "</div>"
      ],
      "text/plain": [
       "       Temperature  Ambient_Pressure  Relative_Humidity  Exhaust_Vacuum\n",
       "count  9568.000000       9568.000000        9568.000000     9568.000000\n",
       "mean     19.651231       1013.259078          73.308978       54.305804\n",
       "std       7.452473          5.938784          14.600269       12.707893\n",
       "min       1.810000        992.890000          25.560000       25.360000\n",
       "25%      13.510000       1009.100000          63.327500       41.740000\n",
       "50%      20.345000       1012.940000          74.975000       52.080000\n",
       "75%      25.720000       1017.260000          84.830000       66.540000\n",
       "max      37.110000       1033.300000         100.160000       81.560000"
      ]
     },
     "execution_count": 25,
     "metadata": {},
     "output_type": "execute_result"
    }
   ],
   "source": [
    "df_electrical.describe()[['Temperature','Ambient_Pressure','Relative_Humidity','Exhaust_Vacuum']]"
   ]
  },
  {
   "cell_type": "code",
   "execution_count": 34,
   "id": "5a8a5050",
   "metadata": {},
   "outputs": [
    {
     "data": {
      "text/plain": [
       "<AxesSubplot:>"
      ]
     },
     "execution_count": 34,
     "metadata": {},
     "output_type": "execute_result"
    },
    {
     "data": {
      "image/png": "[encoded data removed]",
      "text/plain": [
       "<Figure size 432x288 with 1 Axes>"
      ]
     },
     "metadata": {
      "needs_background": "light"
     },
     "output_type": "display_data"
    }
   ],
   "source": [
    "df_electrical['Exhaust_Vacuum'].plot(kind = 'box')"
   ]
  },
  {
   "cell_type": "code",
   "execution_count": 35,
   "id": "f2c7aa13",
   "metadata": {},
   "outputs": [
    {
     "data": {
      "text/plain": [
       "<AxesSubplot:>"
      ]
     },
     "execution_count": 35,
     "metadata": {},
     "output_type": "execute_result"
    },
    {
     "data": {
      "image/png": "[encoded data removed]",
      "text/plain": [
       "<Figure size 432x288 with 1 Axes>"
      ]
     },
     "metadata": {
      "needs_background": "light"
     },
     "output_type": "display_data"
    }
   ],
   "source": [
    "df_electrical['Relative_Humidity'].plot(kind = 'box')"
   ]
  },
  {
   "cell_type": "code",
   "execution_count": 36,
   "id": "0681a0a8",
   "metadata": {},
   "outputs": [
    {
     "data": {
      "text/plain": [
       "<AxesSubplot:>"
      ]
     },
     "execution_count": 36,
     "metadata": {},
     "output_type": "execute_result"
    },
    {
     "data": {
      "image/png": "[encoded data removed]",
      "text/plain": [
       "<Figure size 432x288 with 1 Axes>"
      ]
     },
     "metadata": {
      "needs_background": "light"
     },
     "output_type": "display_data"
    }
   ],
   "source": [
    "df_electrical['Ambient_Pressure'].plot(kind = 'box')"
   ]
  },
  {
   "cell_type": "code",
   "execution_count": 45,
   "id": "0ca11c40",
   "metadata": {},
   "outputs": [
    {
     "data": {
      "text/html": [
       "<div>\n",
       "<style scoped>\n",
       "    .dataframe tbody tr th:only-of-type {\n",
       "        vertical-align: middle;\n",
       "    }\n",
       "\n",
       "    .dataframe tbody tr th {\n",
       "        vertical-align: top;\n",
       "    }\n",
       "\n",
       "    .dataframe thead th {\n",
       "        text-align: right;\n",
       "    }\n",
       "</style>\n",
       "<table border=\"1\" class=\"dataframe\">\n",
       "  <thead>\n",
       "    <tr style=\"text-align: right;\">\n",
       "      <th></th>\n",
       "      <th>Temperature</th>\n",
       "      <th>Exhaust_Vacuum</th>\n",
       "      <th>Ambient_Pressure</th>\n",
       "      <th>Relative_Humidity</th>\n",
       "      <th>net_hourly_electrical_energy_output</th>\n",
       "    </tr>\n",
       "  </thead>\n",
       "  <tbody>\n",
       "    <tr>\n",
       "      <th>0</th>\n",
       "      <td>8.34</td>\n",
       "      <td>40.77</td>\n",
       "      <td>1010.84</td>\n",
       "      <td>90.01</td>\n",
       "      <td>480.48</td>\n",
       "    </tr>\n",
       "    <tr>\n",
       "      <th>1</th>\n",
       "      <td>23.64</td>\n",
       "      <td>58.49</td>\n",
       "      <td>1011.40</td>\n",
       "      <td>74.20</td>\n",
       "      <td>445.75</td>\n",
       "    </tr>\n",
       "    <tr>\n",
       "      <th>2</th>\n",
       "      <td>29.74</td>\n",
       "      <td>56.90</td>\n",
       "      <td>1007.15</td>\n",
       "      <td>41.91</td>\n",
       "      <td>438.76</td>\n",
       "    </tr>\n",
       "    <tr>\n",
       "      <th>3</th>\n",
       "      <td>19.07</td>\n",
       "      <td>49.69</td>\n",
       "      <td>1007.22</td>\n",
       "      <td>76.79</td>\n",
       "      <td>453.09</td>\n",
       "    </tr>\n",
       "    <tr>\n",
       "      <th>4</th>\n",
       "      <td>11.80</td>\n",
       "      <td>40.66</td>\n",
       "      <td>1017.13</td>\n",
       "      <td>97.20</td>\n",
       "      <td>464.43</td>\n",
       "    </tr>\n",
       "  </tbody>\n",
       "</table>\n",
       "</div>"
      ],
      "text/plain": [
       "   Temperature  Exhaust_Vacuum  Ambient_Pressure  Relative_Humidity  \\\n",
       "0         8.34           40.77           1010.84              90.01   \n",
       "1        23.64           58.49           1011.40              74.20   \n",
       "2        29.74           56.90           1007.15              41.91   \n",
       "3        19.07           49.69           1007.22              76.79   \n",
       "4        11.80           40.66           1017.13              97.20   \n",
       "\n",
       "   net_hourly_electrical_energy_output  \n",
       "0                               480.48  \n",
       "1                               445.75  \n",
       "2                               438.76  \n",
       "3                               453.09  \n",
       "4                               464.43  "
      ]
     },
     "execution_count": 45,
     "metadata": {},
     "output_type": "execute_result"
    }
   ],
   "source": [
    "df_m = df_electrical[df_electrical['Temperature'] > 1.810000]\n",
    "\n",
    "df_m.head()"
   ]
  },
  {
   "cell_type": "code",
   "execution_count": 37,
   "id": "052b3822",
   "metadata": {},
   "outputs": [
    {
     "data": {
      "text/plain": [
       "<AxesSubplot:>"
      ]
     },
     "execution_count": 37,
     "metadata": {},
     "output_type": "execute_result"
    },
    {
     "data": {
      "image/png": "[encoded data removed]",
      "text/plain": [
       "<Figure size 432x288 with 1 Axes>"
      ]
     },
     "metadata": {
      "needs_background": "light"
     },
     "output_type": "display_data"
    }
   ],
   "source": [
    "df_electrical['Temperature'].plot(kind = 'box')"
   ]
  }
 ],
 "metadata": {
  "kernelspec": {
   "display_name": "Python 3 (ipykernel)",
   "language": "python",
   "name": "python3"
  },
  "language_info": {
   "codemirror_mode": {
    "name": "ipython",
    "version": 3
   },
   "file_extension": ".py",
   "mimetype": "text/x-python",
   "name": "python",
   "nbconvert_exporter": "python",
   "pygments_lexer": "ipython3",
   "version": "3.9.12"
  }
 },
 "nbformat": 4,
 "nbformat_minor": 5
}
